{
 "cells": [
  {
   "cell_type": "markdown",
   "id": "ef0fb5d4",
   "metadata": {},
   "source": [
    "# <font color=red> Simple Linear Regreession "
   ]
  },
  {
   "cell_type": "markdown",
   "id": "70b0abed",
   "metadata": {},
   "source": [
    "### 1. Estimating Coefficients\n",
    "\\begin{align}\n",
    "\\Large Y= \\beta_0 + \\beta_1 X + \\epsilon\n",
    "\\end{align}\n",
    "\n",
    "Here $\\beta_0$ is the intercept term- that is, the expected value of $Y$ when $X=0$, and $\\beta_1$ is the slope- the average increase in $Y$ associated with a one unit increase in $X$. The error term is a catch-all for what we miss with this simple model; the true relationship is probably not linear, there may be other variables that cause variation in $Y$, and there may be measurement error. **We typically assume that the error term is independent of $X$**.The above equation is called population regression equation. \n",
    "\n",
    "The unknown coefficients $\\beta_0$ and $\\beta_1$ in the popluation regression line is unknown. We estimate these unknown coefficients using the principle of least sqaures. \n",
    "\n",
    "\\begin{align}\n",
    "\\large \\hat{\\beta_1} = \\frac{\\sum_{i=1}^{n} (x_i - \\bar{x})(y_i-\\bar{y})}{\\sum_{i=1}^{n} (x_i - \\bar{x})^2} = \\frac{S_{xy}}{S_{xx}}\n",
    "\\end{align}\n",
    "\n",
    "\\begin{align}\n",
    "\\large \\hat{\\beta_0} = \\bar{y} - \\hat{\\beta_1}\\bar{x}\n",
    "\\end{align}"
   ]
  },
  {
   "cell_type": "markdown",
   "id": "61b5a72a",
   "metadata": {},
   "source": [
    "###  2. Standard Errors of Estimates \n",
    "The least squares coefficient estimates are unbiased. This means that if we estimate $\\beta_0$ and $\\beta_1$ on the basis of a particular data set, then our estimates won't be equal to $\\beta_0$ and $\\beta_1$. But if we could average the estimates obtained would be spot on. \n",
    "\n",
    "How accurate are the estimates? We answer this question by computing the standard errors of the estimates. \n",
    "\\begin{align}\n",
    "\\large SE(\\hat{\\beta_0})^2 = \\sigma^2[\\frac{1}{n} + \\frac{\\bar{x}^2}{\\sum_{i=1}^{n}(x_i-\\bar{x})^2}]\n",
    "\\end{align}\n",
    "\\begin{align}\n",
    "\\large SE(\\hat{\\beta_0})^2 = \\frac{\\sigma^2}{\\sum_{i=1}^{n}(x_i-\\bar{x})^2}\n",
    "\\end{align}\n",
    "where $\\sigma^2 = Var(\\epsilon)$\n",
    "\n",
    "These formulas to be strictly valid, we need to assume that the errors for each observation are uncorrelated with common variance $\\sigma^2$. We see that $SE(\\hat{\\beta_0})$ would be the same as $SE(\\hat{\\mu})$ if $\\bar{x}$ were zero.$SE(\\hat{\\beta_1})$ is smaller when $x_i$ are more spread out; intuitively we have more leverage to estimate a slope when this is the case. In general, $\\sigma^2$ is not known, but can be estimated from the data. The estimate of $\\sigma$ is known as residual standard error, and is given by the formula; \n",
    "$RSE = \\sqrt{RSS/(n-2)}$. "
   ]
  },
  {
   "cell_type": "markdown",
   "id": "a3f97478",
   "metadata": {},
   "source": [
    "### 3. Hypothesis Testing\n",
    "Standard errors can be used to perform hypothesis tests on the coefficients. The most common hypothesis test involves testing the null hypothesis of \n",
    "\n",
    "$H_0$ : There is no relationship between $X$ and $Y$ ($\\beta_1 = 0$) \n",
    "\n",
    "$H_1$ : There is some relationship between $X$ and $Y$ ($\\beta_1 != 0$) \n",
    "\n",
    "To test the null hypothesis, we need to determine\n",
    "whether $\\hat{\\beta_1}$, our estimate for β1, is sufficiently far from zero that we can\n",
    "be confident that β1 is non-zero. How far is far enough? This of course\n",
    "depends on the accuracy of $\\hat{\\beta_1}$ —that is, it depends on $SE(\\hat{\\beta_1})$. If $SE(\\hat{\\beta_1})$ is\n",
    "small, then even relatively small values of $\\hat{\\beta_1}$ may provide strong evidence that β1 = 0, and hence that there is a relationship between X and Y . In contrast, if $SE(\\hat{\\beta_1})$ is large, then $\\hat{\\beta_1}$ must be large in absolute value in order\n",
    "for us to reject the null hypothesis. In practice, we compute a t-statistic, t-statistic\n",
    "given by\n",
    "\\begin{align}\n",
    "\\Large t = \\frac{\\hat{\\beta_1}-0}{SE(\\hat{\\beta_1})}\n",
    "\\end{align}\n",
    "This measure the number of standard deviations that beta_1_hat is away from 0. If there really is no relationship between x and y, then we expect that will have a t distribution with n-2 degrees of freedom. The t distribution has a bell shape and for values of n greater than approximately 30 it is quite similar to the normal distribution.\n",
    "\n",
    "We interpret the p value as follows: a small p-value indicates that it is unlikely to observe such a substantial association between the predictor and the response due to chance, in the absence of any real association between the predictor and the response. Hence, if we see a small p-value, then we can infer that there is an association between predictor and the response. We reject the null hypothesis - that is , we declare a relationship to exist between x and y- if the p-value is small enough. "
   ]
  },
  {
   "attachments": {
    "image.png": {
     "image/png": "[encoded data removed]"
    }
   },
   "cell_type": "markdown",
   "id": "a5f11b7b",
   "metadata": {},
   "source": [
    "![image.png](attachment:image.png)"
   ]
  },
  {
   "cell_type": "markdown",
   "id": "b71a09ea",
   "metadata": {},
   "source": [
    "### 4. Assessing the accuracy of the Model\n",
    "The quality of a linear regression fit is typically assessed using two related quantities; the residual standard error(RSE) and the $R^2$ statistic.\n",
    "Due to the presence of the error term, even if we knew the true regression line, we would not be able to perfectly predict Y from X. The RSE is an estimate of the standard deviation of the $\\epsilon$. Roughly speaking, it is the average amount that the response will deviate from the true regression line. It is computed using the formua; \n",
    "\n",
    "\\begin{align}\n",
    "\\Large RSS = \\sqrt{\\frac{1}{n-2}RSS} = \\sqrt{\\frac{1}{n-2} \\sum_{i=1}^{n} (y_i-\\hat{y_i})^2}\n",
    "\\end{align}"
   ]
  },
  {
   "cell_type": "markdown",
   "id": "3d745167",
   "metadata": {},
   "source": [
    "### 5. R2 Statistic\n",
    "\n",
    "RSE provides an absolute measure of lack of fit of the model. But sicne it is measured in the units of y, it is not always clear what constitutes a good RSE. The $R^2$ statistic takes the form of a proportion- the proportion of variance explained - and so it always takes on a value between 0 and 1 and is independent of the scale of y. \n",
    "\n",
    "\\begin{align}\n",
    "\\large R^2 = \\frac{TSS-RSS}{TSS} = 1- \\frac{RSS}{TSS}\n",
    "\\end{align}\n",
    "\n",
    "where $TSS = \\sum(y_i-\\bar{y})^2$ is the total sum of squares and RSS is defined. TSS measures the total variance in the response y, and can be thought of as the amount of variability inherent in the response before the regression is performed.In contrast, RSS measures the amount of variability that is left unexplained after performing the regression. R2 measures the proportion of variability in y that can be explained using x. "
   ]
  },
  {
   "cell_type": "markdown",
   "id": "0798e034",
   "metadata": {},
   "source": [
    "\\begin{align}\n",
    "\\LARGE Cor(X,Y) = \\frac{\\sum_{i=1}^{n}(x_i-\\bar{x})(y_i-\\bar{y})}{\\sqrt{\\sum(x_i-\\bar{x})^2} \\sum(y_i-\\bar{y})^2}\n",
    "\\end{align}"
   ]
  },
  {
   "cell_type": "markdown",
   "id": "4e41e0f6",
   "metadata": {},
   "source": [
    "# <font color=red> Multiple Linear Regression - Matrix Formulation "
   ]
  },
  {
   "cell_type": "markdown",
   "id": "ca6f128b",
   "metadata": {},
   "source": [
    "https://online.stat.psu.edu/stat462/node/132/"
   ]
  },
  {
   "cell_type": "code",
   "execution_count": null,
   "id": "ac452371",
   "metadata": {},
   "outputs": [],
   "source": []
  },
  {
   "cell_type": "markdown",
   "id": "f96b34cf",
   "metadata": {},
   "source": [
    "# <font color=red> Assumptions of Linear Regression"
   ]
  },
  {
   "cell_type": "code",
   "execution_count": null,
   "id": "4f7ba7c1",
   "metadata": {},
   "outputs": [],
   "source": []
  },
  {
   "cell_type": "code",
   "execution_count": null,
   "id": "ef370077",
   "metadata": {},
   "outputs": [],
   "source": []
  },
  {
   "cell_type": "markdown",
   "id": "506209fa",
   "metadata": {},
   "source": [
    "# <font color=red> Diagnosting Problems in the Regression "
   ]
  },
  {
   "cell_type": "code",
   "execution_count": null,
   "id": "57b54f13",
   "metadata": {},
   "outputs": [],
   "source": []
  },
  {
   "cell_type": "code",
   "execution_count": null,
   "id": "40bf2100",
   "metadata": {},
   "outputs": [],
   "source": []
  },
  {
   "cell_type": "markdown",
   "id": "d1f0642f",
   "metadata": {},
   "source": [
    "# <font color=red> Gradient Descent Algorithm to find the estimates"
   ]
  },
  {
   "cell_type": "code",
   "execution_count": null,
   "id": "62385dce",
   "metadata": {},
   "outputs": [],
   "source": []
  },
  {
   "cell_type": "code",
   "execution_count": null,
   "id": "2f4cdebd",
   "metadata": {},
   "outputs": [],
   "source": []
  },
  {
   "cell_type": "code",
   "execution_count": null,
   "id": "f1cf53ef",
   "metadata": {},
   "outputs": [],
   "source": []
  },
  {
   "cell_type": "code",
   "execution_count": null,
   "id": "d082912c",
   "metadata": {},
   "outputs": [],
   "source": []
  },
  {
   "cell_type": "code",
   "execution_count": null,
   "id": "3254718c",
   "metadata": {},
   "outputs": [],
   "source": []
  },
  {
   "cell_type": "markdown",
   "id": "f547cd1c",
   "metadata": {},
   "source": [
    "# <font color=red> Sklearn Module for linear Regression"
   ]
  },
  {
   "cell_type": "code",
   "execution_count": null,
   "id": "9e2ea895",
   "metadata": {},
   "outputs": [],
   "source": []
  }
 ],
 "metadata": {
  "kernelspec": {
   "display_name": "Python 3 (ipykernel)",
   "language": "python",
   "name": "python3"
  },
  "language_info": {
   "codemirror_mode": {
    "name": "ipython",
    "version": 3
   },
   "file_extension": ".py",
   "mimetype": "text/x-python",
   "name": "python",
   "nbconvert_exporter": "python",
   "pygments_lexer": "ipython3",
   "version": "3.10.9"
  }
 },
 "nbformat": 4,
 "nbformat_minor": 5
}
